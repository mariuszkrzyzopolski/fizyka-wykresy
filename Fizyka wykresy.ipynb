{
 "cells": [
  {
   "cell_type": "code",
   "execution_count": 1,
   "metadata": {},
   "outputs": [],
   "source": [
    "import pandas as pd\n",
    "import numpy as np\n",
    "import matplotlib.pyplot as plt\n",
    "import seaborn as sns\n",
    "from scipy import stats"
   ]
  },
  {
   "cell_type": "code",
   "execution_count": 55,
   "metadata": {},
   "outputs": [],
   "source": [
    "df_light_bulb = pd.DataFrame({\n",
    "    \"Napięcie\": [2,4,6,8,10,12,14,16,18,20,22,24],\n",
    "    \"A\": [0.26,0.36,0.42,0.48,0.54,0.59,0.65,0.70,0.75,0.79,0.83,0.88],\n",
    "    \"V\": [1.89,3.82,5.77,7.72,9.70,11.70,13.67,15.58,17.57,19.53,21.5,23.5],\n",
    "    \"R\":[6.925925926,11,13.71428571,16,17.70909091,19.24590164,20.53030303,22.37142857,23.46666667,24.69620253,25.90361446,27.01149425],\n",
    "    \"err_A\":[0.0554,0.057,0.0584,0.0598,0.061,0.0622,0.0632,0.064,0.065,0.0658,0.0666,0.0674],\n",
    "    \"err_V\":[0.01935,0.02925,0.0388,0.0492,0.0587,0.0687,0.07775,0.0883,0.098,0.10755,0.1175,0.1275]})"
   ]
  },
  {
   "cell_type": "code",
   "execution_count": 4,
   "metadata": {},
   "outputs": [
    {
     "data": {
      "text/html": [
       "<div>\n",
       "<style scoped>\n",
       "    .dataframe tbody tr th:only-of-type {\n",
       "        vertical-align: middle;\n",
       "    }\n",
       "\n",
       "    .dataframe tbody tr th {\n",
       "        vertical-align: top;\n",
       "    }\n",
       "\n",
       "    .dataframe thead th {\n",
       "        text-align: right;\n",
       "    }\n",
       "</style>\n",
       "<table border=\"1\" class=\"dataframe\">\n",
       "  <thead>\n",
       "    <tr style=\"text-align: right;\">\n",
       "      <th></th>\n",
       "      <th>Napięcie</th>\n",
       "      <th>Prąd</th>\n",
       "      <th>Napięcie po stracie</th>\n",
       "      <th>Prąd2</th>\n",
       "      <th>Napiecie po stracie2</th>\n",
       "    </tr>\n",
       "  </thead>\n",
       "  <tbody>\n",
       "    <tr>\n",
       "      <th>0</th>\n",
       "      <td>2</td>\n",
       "      <td>17.6</td>\n",
       "      <td>1.95</td>\n",
       "      <td>18.1</td>\n",
       "      <td>1.97</td>\n",
       "    </tr>\n",
       "    <tr>\n",
       "      <th>1</th>\n",
       "      <td>4</td>\n",
       "      <td>36.0</td>\n",
       "      <td>3.90</td>\n",
       "      <td>36.5</td>\n",
       "      <td>3.89</td>\n",
       "    </tr>\n",
       "    <tr>\n",
       "      <th>2</th>\n",
       "      <td>6</td>\n",
       "      <td>53.1</td>\n",
       "      <td>5.88</td>\n",
       "      <td>55.3</td>\n",
       "      <td>5.85</td>\n",
       "    </tr>\n",
       "    <tr>\n",
       "      <th>3</th>\n",
       "      <td>8</td>\n",
       "      <td>71.1</td>\n",
       "      <td>7.84</td>\n",
       "      <td>72.3</td>\n",
       "      <td>7.78</td>\n",
       "    </tr>\n",
       "    <tr>\n",
       "      <th>4</th>\n",
       "      <td>10</td>\n",
       "      <td>89.5</td>\n",
       "      <td>9.81</td>\n",
       "      <td>90.9</td>\n",
       "      <td>9.73</td>\n",
       "    </tr>\n",
       "  </tbody>\n",
       "</table>\n",
       "</div>"
      ],
      "text/plain": [
       "   Napięcie  Prąd  Napięcie po stracie  Prąd2  Napiecie po stracie2\n",
       "0         2  17.6                 1.95   18.1                  1.97\n",
       "1         4  36.0                 3.90   36.5                  3.89\n",
       "2         6  53.1                 5.88   55.3                  5.85\n",
       "3         8  71.1                 7.84   72.3                  7.78\n",
       "4        10  89.5                 9.81   90.9                  9.73"
      ]
     },
     "execution_count": 4,
     "metadata": {},
     "output_type": "execute_result"
    }
   ],
   "source": [
    "df2.head()"
   ]
  },
  {
   "cell_type": "code",
   "execution_count": 58,
   "metadata": {
    "scrolled": true
   },
   "outputs": [
    {
     "data": {
      "text/plain": [
       "<Figure size 432x288 with 0 Axes>"
      ]
     },
     "metadata": {},
     "output_type": "display_data"
    }
   ],
   "source": [
    "plt.figure()\n",
    "fig, ax = plt.subplots( nrows=1, ncols=1 )\n",
    "ax.errorbar(df_light_bulb['V'],df_light_bulb['A'],\n",
    "            xerr=df_light_bulb['err_V'],\n",
    "            yerr=df_light_bulb['err_A'],\n",
    "            fmt='-o')\n",
    "ax.set_xlabel('V')\n",
    "ax.set_ylabel('A')\n",
    "ax.set_title('Żarówka')\n",
    "fig.savefig('foo.png')\n",
    "plt.close()"
   ]
  },
  {
   "cell_type": "code",
   "execution_count": null,
   "metadata": {},
   "outputs": [],
   "source": []
  }
 ],
 "metadata": {
  "kernelspec": {
   "display_name": "Python 3",
   "language": "python",
   "name": "python3"
  },
  "language_info": {
   "codemirror_mode": {
    "name": "ipython",
    "version": 3
   },
   "file_extension": ".py",
   "mimetype": "text/x-python",
   "name": "python",
   "nbconvert_exporter": "python",
   "pygments_lexer": "ipython3",
   "version": "3.7.6"
  }
 },
 "nbformat": 4,
 "nbformat_minor": 4
}
